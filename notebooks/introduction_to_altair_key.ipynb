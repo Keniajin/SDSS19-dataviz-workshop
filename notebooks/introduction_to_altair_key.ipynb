{
 "cells": [
  {
   "cell_type": "markdown",
   "metadata": {},
   "source": [
    "# Data visualization with ggplot2"
   ]
  },
  {
   "cell_type": "code",
   "execution_count": 1,
   "metadata": {},
   "outputs": [
    {
     "ename": "NameError",
     "evalue": "name 'source' is not defined",
     "output_type": "error",
     "traceback": [
      "\u001b[0;31m---------------------------------------------------------------------------\u001b[0m",
      "\u001b[0;31mNameError\u001b[0m                                 Traceback (most recent call last)",
      "\u001b[0;32m<ipython-input-1-393a607c5753>\u001b[0m in \u001b[0;36m<module>\u001b[0;34m()\u001b[0m\n\u001b[0;32m----> 1\u001b[0;31m \u001b[0msource\u001b[0m\u001b[0;34m(\u001b[0m\u001b[0;34m\"setup.R\"\u001b[0m\u001b[0;34m)\u001b[0m\u001b[0;34m\u001b[0m\u001b[0;34m\u001b[0m\u001b[0m\n\u001b[0m\u001b[1;32m      2\u001b[0m \u001b[0msurveys\u001b[0m \u001b[0;34m<\u001b[0m\u001b[0;34m-\u001b[0m \u001b[0mread\u001b[0m\u001b[0;34m.\u001b[0m\u001b[0mcsv\u001b[0m\u001b[0;34m(\u001b[0m\u001b[0;34m'data/portal_data_joined.csv'\u001b[0m\u001b[0;34m)\u001b[0m\u001b[0;34m\u001b[0m\u001b[0;34m\u001b[0m\u001b[0m\n",
      "\u001b[0;31mNameError\u001b[0m: name 'source' is not defined"
     ]
    }
   ],
   "source": [
    "source(\"setup.R\")\n",
    "surveys <- read.csv('data/portal_data_joined.csv')"
   ]
  },
  {
   "cell_type": "code",
   "execution_count": null,
   "metadata": {},
   "outputs": [],
   "source": [
    "### Data Visualization with ggplot2"
   ]
  },
  {
   "cell_type": "code",
   "execution_count": null,
   "metadata": {},
   "outputs": [],
   "source": [
    "------------\n",
    "\n",
    "> ### Learning Objectives\n",
    ">\n",
    "> * Understand the \"grammar of graphics\"\n",
    "> * Produce scatter plots, boxplots, bar graphs, and time series plots using ggplot.\n",
    "> * Set universal plot settings.\n",
    "> * Modify the aesthetics of an existing ggplot plot (including axis labels and color).\n",
    "> * Build complex and customized plots from data in a data frame.\n",
    "--------------\n",
    "\n",
    "We start by loading the required packages. **`ggplot2`** is included in the **`tidyverse`** package,  and is the current standard for data visualization in R.  Authored by Hadley Wickham, `gg` stands for \"Grammar of Graphics.\"  In learning `ggplot2`, you may find the following [cheat sheet](https://www.rstudio.com/wp-content/uploads/2015/03/ggplot2-cheatsheet.pdf) to be a helpful reference."
   ]
  },
  {
   "cell_type": "code",
   "execution_count": null,
   "metadata": {},
   "outputs": [],
   "source": [
    "library(tidyverse)"
   ]
  },
  {
   "cell_type": "code",
   "execution_count": null,
   "metadata": {},
   "outputs": [],
   "source": [
    "## Overview\n",
    "\n",
    "###Basic grammar\n",
    "\n",
    "Hadley's Grammar of Graphics is outlined in detail in [this article](http://vita.had.co.nz/papers/layered-grammar.pdf).  Here, he illustrates his principles using a small data set similar to the following:\n",
    "\n",
    "```{r}\n",
    "df <- data.frame(A = c(2,1,4,9),\n",
    "                 B  = c(4,1,15,80),\n",
    "                 C = c(1,2,3,4),\n",
    "                 D = c('far','far','near','near'))\n",
    "head(df)\n",
    "```\n",
    "\n",
    "To visualize any data set using the Grammar of Graphics, it helps to understand the 3 components of which any graph is comprised:\n",
    "\n",
    "1. Geoms\n",
    "2. Scales\n",
    "3. Data columns\n",
    "\n",
    "\n",
    " **Geoms** are the visual entities that we see on a graph. In the image below, we see three examples of geoms: a circular ***point***, a ***bar***, and a ***line***:\n",
    " \n",
    " ![](img/geoms.png)\n",
    "\n",
    "\n",
    "\n",
    "**Scales** control how the **data columns** map to the aesthetic attributes of the geoms.  For example, is the point geom *yellow* or *blue*?  Is it *large* or *small*?  Is it *high* or *low*?  *Left* or *right*? These aesthetic attributes are respectively controlled by the **color**, **size**,  **y**, and **x** scales: \n",
    "\n",
    "![](img/scales.png)\n",
    "\n",
    "\n",
    "\n",
    "Additional scales in `ggplot2` are:\n",
    "\n",
    "\n",
    "* **shape**\n",
    "* **linetype** (for the line geom)\n",
    "* **fill** (for the bar and point geoms)\n",
    "\n",
    " \n",
    "\n",
    "Any plot created with `ggplot2` requires these ingredients.  To create a plot, one must specify the desired geom; which data variables are to be aesthetically mapped to the geom; and the scales to use to control the mapping.  The skeleton of any `ggplot2` command is as follows; parts in italics are to be replaced with specific data variable names, geoms, and scales:\n",
    "\n",
    "\n",
    "**ggplot(data = *nameofdata*) + geom_*nameofgeom*(aes(*scale1* = *variable1*, *scale2* = *variable2*))**\n",
    "\n",
    "\n",
    "\n",
    "At a minimum, most geoms require the `x` scale.  \n",
    "\n",
    "\n",
    "\n",
    "Let's begin by mapping `A` and `B` to the `point` geom on a Cartesian plane.  Note in `?geom_point` that two scales are required for aesthetic mappings to point geoms, **x** and **y**:\n",
    "\n",
    "```{r,warning=FALSE,fig.height = 3, fig.width=4,fig.align='center'}\n",
    "ggplot(data = df) + geom_point(aes(x = A,y=B))\n",
    "```\n",
    "\n",
    "We can employ other scales outside of aesthetic data mappings.  For example, if we want to change the aesthetic mapping of the above scatterplot by changing the **shape**, **color**, and **size** scale, we can do so with the following:\n",
    "```{r,warning=FALSE,fig.height = 3, fig.width=4,fig.align='center'}\n",
    "ggplot(data = df) + geom_point(aes(x = A,y=B), shape = 17,color='red',size=4)\n",
    "```\n",
    "\n",
    "Notice in the above code that the scales that are not mapped to data are *outside* the `aes()` command.  \n",
    "\n",
    "As an aside, looking at the `?shape` help file, we can find code to see all possible shapes:\n",
    "\n",
    "```{r,warning=FALSE,fig.height = 3, fig.width=4,fig.align='center'}\n",
    "df2 <- data.frame(x = 1:5 , y = 1:25, z = 1:25)\n",
    "s <- ggplot(df2, aes(x = x, y = y))\n",
    "s + geom_point(aes(shape = z), size = 4) + scale_shape_identity()\n",
    "```\n",
    "\n",
    "\n",
    "Now suppose we want to aesthetically map other variables with the **shape**, **color**, and **size** scales.  We must now put these specifications inside the `aes()` command and specify the variables we wish to map.  Consider the following code, and note the different looks, error messages and warnings that appear when attempting to apply aesthetic mappings using various scales depending on the data type. In `ggplot`-speak, \"continuous\" refers to quantitative data in general; while \"discrete\" refers to categorical data: \n",
    "\n",
    "\n",
    "\n",
    "```{r,warning=FALSE,fig.height = 4, fig.width=4.5,eval=FALSE}\n",
    "#Mapping continuous C with size:\n",
    "ggplot(data = df) + geom_point(aes(x = A,y=B, size = C))\n",
    "#Mapping continuous C with size and color:\n",
    "ggplot(data = df) + geom_point(aes(x = A,y=B, size = C, color = C))\n",
    "#Mapping continuous C with shape:\n",
    "ggplot(data = df) + geom_point(aes(x = A,y=B, shape = C))\n",
    "```\n",
    "\n",
    "```{r,warning=FALSE,fig.height = 4, fig.width=4.5,echo=FALSE}\n",
    "ggplot(data = df) + geom_point(aes(x = A,y=B, size = C))\n",
    "ggplot(data = df) + geom_point(aes(x = A,y=B, size = C, color = C))\n",
    "```\n",
    "\n",
    "> ###Challenge\n",
    "> Re-create the following plots:\n",
    "```{r,recreate1, warning=FALSE,fig.height = 3, fig.width=4.5,echo=FALSE}\n",
    "#Mapping discrete D with shape:\n",
    "ggplot(data = df) + geom_point(aes(x = A,y=B, shape = D), size = 4)\n",
    "```\n",
    "```{r,recreate2, warning=FALSE,fig.height = 3, fig.width=4.5,echo=FALSE}\n",
    "#Mapping discrete D with shape:\n",
    "ggplot(data = df) + geom_point(aes(x = A,y=B, color = D), size = 4)\n",
    "```\n",
    "```{r,recreate3, warning=FALSE,fig.height = 3, fig.width=4.5,echo=FALSE}\n",
    "#Mapping discrete D with shape and color:\n",
    "ggplot(data = df) + geom_point(aes(x = A,y=B, shape = D,color=D), size = 4)\n",
    "```\n",
    "```{r,recreate4, warning=FALSE,fig.height = 3, fig.width=4.5,echo=FALSE}\n",
    "#Mapping discrete D with shape and color:\n",
    "ggplot(data = df) + geom_point(aes(x = A,y=B, shape = D,color=D,size=C))\n",
    "```\n",
    "\n",
    "\n",
    "Note some interesting concepts illustrated here:\n",
    "\n",
    "* *Continuous* (numeric, quantitative) variables should be mapped using **size** or **color** scales; these are the scales that can encode quantity.\n",
    "* *Discrete* (categorical) variables should be mapped with **shape** or **color** scales; these are the scales that are best used for indicating \"categories.\"  \n",
    "\n",
    "###Layers\n",
    "\n",
    "A very important aspect of the `ggplot2` package is the idea of *layers*.  Aesthetic mappings to different geoms can take place simply by specifying additional mappings with a `+` sign.  For example, suppose we want to create the above scatterplots with points *and* lines.  This requires two aesthetic mappings: one from the data to the points geom, and one from the data to the lines geom.  We can see this in what follows.  Note that because both `geom_point()` and `geom_line()` rely on the same aesthetic mapping, we could simplify the code by specifiying the appropriate mapping in the initial `ggplot()` command. The following two lines of code are equivalent:\n",
    "\n",
    "\n",
    "\n",
    "```{r,warning=FALSE,fig.height = 3, fig.width=4.5,eval=FALSE}\n",
    "ggplot(data = df) + geom_point(aes(x = A,y=B), size = 4) + geom_line(aes(x = A,y=B))\n",
    "ggplot(aes(x = A, y = B), data = df) + geom_point(size = 4) + geom_line()\n",
    "```\n",
    "\n",
    "```{r,warning=FALSE,fig.height = 3, fig.width=4.5,echo=FALSE,fig.align='center'}\n",
    "ggplot(data = df) + geom_point(aes(x = A,y=B), size = 4) + geom_line(aes(x = A,y=B))\n",
    "```\n",
    "\n",
    "> ###Challenge  \n",
    "> Re-create the following plots.  What happens if you try to map \n",
    "> variable `C` to `geom_line()` using the **size** scale?\n",
    "```{r,recreate5, warning=FALSE,fig.height = 3, fig.width=4.5,echo=FALSE}\n",
    "ggplot(data = df) + geom_point(aes(x = A,y=B,shape=D,color=D), size = 5) + geom_line(aes(x = A,y=B),size=2)\n",
    "```\n",
    "```{r,recreate6, warning=FALSE,fig.height = 3, fig.width=4.5,echo=FALSE}\n",
    "ggplot(data = df) +  geom_line(aes(x = A,y=B),size=2) + geom_point(aes(x = A,y=B,shape=D,color=D), size = 5)\n",
    "```\n",
    "```{r,recreate7,warning=FALSE,fig.height = 3, fig.width=4.5,echo=FALSE}\n",
    "ggplot(data = df)  + geom_line(aes(x = A,y=B,color=D),size=2)+ geom_point(aes(x = A,y=B,shape=D), size = 4)\n",
    "```\n",
    "```{r,recreate8,warning=FALSE,fig.height = 3, fig.width=4.5,echo=FALSE}\n",
    "ggplot(data = df)  + geom_line(aes(x = A,y=B,linetype=D,color=D),size=2)+ geom_point(aes(x = A,y=B,shape=D), size = 4)\n",
    "```"
   ]
  },
  {
   "cell_type": "markdown",
   "metadata": {},
   "source": [
    "## Example for Chris/Silas"
   ]
  },
  {
   "cell_type": "code",
   "execution_count": 1,
   "metadata": {},
   "outputs": [],
   "source": [
    "import pandas as pd\n",
    "import altair as alt"
   ]
  },
  {
   "cell_type": "code",
   "execution_count": 5,
   "metadata": {},
   "outputs": [
    {
     "data": {
      "text/plain": [
       "RendererRegistry.enable('notebook')"
      ]
     },
     "execution_count": 5,
     "metadata": {},
     "output_type": "execute_result"
    }
   ],
   "source": [
    "alt.renderers.enable('notebook')"
   ]
  },
  {
   "cell_type": "code",
   "execution_count": 2,
   "metadata": {
    "scrolled": true
   },
   "outputs": [
    {
     "data": {
      "text/html": [
       "<div>\n",
       "<style scoped>\n",
       "    .dataframe tbody tr th:only-of-type {\n",
       "        vertical-align: middle;\n",
       "    }\n",
       "\n",
       "    .dataframe tbody tr th {\n",
       "        vertical-align: top;\n",
       "    }\n",
       "\n",
       "    .dataframe thead th {\n",
       "        text-align: right;\n",
       "    }\n",
       "</style>\n",
       "<table border=\"1\" class=\"dataframe\">\n",
       "  <thead>\n",
       "    <tr style=\"text-align: right;\">\n",
       "      <th></th>\n",
       "      <th>Factor1</th>\n",
       "      <th>Factor2</th>\n",
       "      <th>Response</th>\n",
       "    </tr>\n",
       "  </thead>\n",
       "  <tbody>\n",
       "    <tr>\n",
       "      <th>0</th>\n",
       "      <td>I</td>\n",
       "      <td>A</td>\n",
       "      <td>15</td>\n",
       "    </tr>\n",
       "    <tr>\n",
       "      <th>1</th>\n",
       "      <td>II</td>\n",
       "      <td>A</td>\n",
       "      <td>5</td>\n",
       "    </tr>\n",
       "    <tr>\n",
       "      <th>2</th>\n",
       "      <td>III</td>\n",
       "      <td>A</td>\n",
       "      <td>5</td>\n",
       "    </tr>\n",
       "    <tr>\n",
       "      <th>3</th>\n",
       "      <td>I</td>\n",
       "      <td>B</td>\n",
       "      <td>10</td>\n",
       "    </tr>\n",
       "    <tr>\n",
       "      <th>4</th>\n",
       "      <td>II</td>\n",
       "      <td>B</td>\n",
       "      <td>15</td>\n",
       "    </tr>\n",
       "    <tr>\n",
       "      <th>5</th>\n",
       "      <td>III</td>\n",
       "      <td>B</td>\n",
       "      <td>15</td>\n",
       "    </tr>\n",
       "    <tr>\n",
       "      <th>6</th>\n",
       "      <td>I</td>\n",
       "      <td>C</td>\n",
       "      <td>5</td>\n",
       "    </tr>\n",
       "    <tr>\n",
       "      <th>7</th>\n",
       "      <td>II</td>\n",
       "      <td>C</td>\n",
       "      <td>10</td>\n",
       "    </tr>\n",
       "    <tr>\n",
       "      <th>8</th>\n",
       "      <td>III</td>\n",
       "      <td>C</td>\n",
       "      <td>10</td>\n",
       "    </tr>\n",
       "  </tbody>\n",
       "</table>\n",
       "</div>"
      ],
      "text/plain": [
       "  Factor1 Factor2  Response\n",
       "0       I       A        15\n",
       "1      II       A         5\n",
       "2     III       A         5\n",
       "3       I       B        10\n",
       "4      II       B        15\n",
       "5     III       B        15\n",
       "6       I       C         5\n",
       "7      II       C        10\n",
       "8     III       C        10"
      ]
     },
     "execution_count": 2,
     "metadata": {},
     "output_type": "execute_result"
    }
   ],
   "source": [
    "fake_data = pd.DataFrame({'Factor1':3*['I','II','III'],\n",
    "                          'Factor2':3*['A'] + 3*['B'] + 3*['C'],\n",
    "                          'Response': [15,5,5,10,15,15,5,10,10]})\n",
    "fake_data"
   ]
  },
  {
   "cell_type": "code",
   "execution_count": 51,
   "metadata": {},
   "outputs": [
    {
     "data": {
      "text/html": [
       "<div class=\"vega-embed\" id=\"f51d3ce7-473b-40c2-826c-9489e5a22bfd\"></div>\n",
       "\n",
       "<style>\n",
       ".vega-embed .vega-actions > a {\n",
       "    transition: opacity 200ms ease-in;\n",
       "    opacity: 0.3;\n",
       "    margin-right: 0.6em;\n",
       "    color: #444;\n",
       "    text-decoration: none;\n",
       "}\n",
       "\n",
       ".vega-embed .vega-actions > a:hover {\n",
       "    color: #000;\n",
       "    text-decoration: underline;\n",
       "}\n",
       "\n",
       ".vega-embed:hover .vega-actions > a {\n",
       "    opacity: 1;\n",
       "    transition: 0s;\n",
       "}\n",
       "\n",
       ".vega-embed .error p {\n",
       "    color: firebrick;\n",
       "    font-size: 1.2em;\n",
       "}\n",
       "</style>\n"
      ]
     },
     "metadata": {
      "jupyter-vega3": "#f51d3ce7-473b-40c2-826c-9489e5a22bfd"
     },
     "output_type": "display_data"
    },
    {
     "data": {
      "application/javascript": [
       "var spec = {\"config\": {\"view\": {\"width\": 400, \"height\": 300}}, \"layer\": [{\"data\": {\"name\": \"data-ffd4bcedf8e37c4377f1e5fe4212314f\"}, \"mark\": \"line\", \"encoding\": {\"color\": {\"type\": \"nominal\", \"field\": \"Factor2\"}, \"x\": {\"type\": \"nominal\", \"field\": \"Factor1\"}, \"y\": {\"type\": \"quantitative\", \"field\": \"Response\"}}, \"height\": 300, \"width\": 400}, {\"data\": {\"name\": \"data-ffd4bcedf8e37c4377f1e5fe4212314f\"}, \"mark\": {\"type\": \"point\", \"filled\": true, \"opacity\": 1, \"size\": 200}, \"encoding\": {\"color\": {\"type\": \"nominal\", \"field\": \"Factor2\"}, \"shape\": {\"type\": \"nominal\", \"field\": \"Factor2\"}, \"x\": {\"type\": \"nominal\", \"field\": \"Factor1\"}, \"y\": {\"type\": \"quantitative\", \"field\": \"Response\"}}, \"height\": 300, \"width\": 400}], \"$schema\": \"https://vega.github.io/schema/vega-lite/v2.6.0.json\", \"datasets\": {\"data-ffd4bcedf8e37c4377f1e5fe4212314f\": [{\"Factor1\": \"I\", \"Factor2\": \"A\", \"Response\": 15}, {\"Factor1\": \"II\", \"Factor2\": \"A\", \"Response\": 5}, {\"Factor1\": \"III\", \"Factor2\": \"A\", \"Response\": 5}, {\"Factor1\": \"I\", \"Factor2\": \"B\", \"Response\": 10}, {\"Factor1\": \"II\", \"Factor2\": \"B\", \"Response\": 15}, {\"Factor1\": \"III\", \"Factor2\": \"B\", \"Response\": 15}, {\"Factor1\": \"I\", \"Factor2\": \"C\", \"Response\": 5}, {\"Factor1\": \"II\", \"Factor2\": \"C\", \"Response\": 10}, {\"Factor1\": \"III\", \"Factor2\": \"C\", \"Response\": 10}]}};\n",
       "var opt = {};\n",
       "var selector = \"#f51d3ce7-473b-40c2-826c-9489e5a22bfd\";\n",
       "var type = \"vega-lite\";\n",
       "\n",
       "var output_area = this;\n",
       "\n",
       "require(['nbextensions/jupyter-vega3/index'], function(vega) {\n",
       "  vega.render(selector, spec, type, opt, output_area);\n",
       "}, function (err) {\n",
       "  if (err.requireType !== 'scripterror') {\n",
       "    throw(err);\n",
       "  }\n",
       "});\n"
      ]
     },
     "metadata": {
      "jupyter-vega3": "#f51d3ce7-473b-40c2-826c-9489e5a22bfd"
     },
     "output_type": "display_data"
    },
    {
     "data": {
      "text/plain": []
     },
     "execution_count": 51,
     "metadata": {},
     "output_type": "execute_result"
    },
    {
     "data": {
      "image/png": "[encoded data removed]"
     },
     "metadata": {
      "jupyter-vega3": "#f51d3ce7-473b-40c2-826c-9489e5a22bfd"
     },
     "output_type": "display_data"
    }
   ],
   "source": [
    "size = {'height':300, 'width':400}\n",
    "point_props = {'size':200, 'filled': True, 'opacity':1}\n",
    "\n",
    "base = (alt\n",
    "         .Chart(fake_data, **size)\n",
    "         .encode(\n",
    "             y='Response',\n",
    "             x='Factor1',\n",
    "             color='Factor2'))\n",
    "\n",
    "lines = base.mark_line()\n",
    "\n",
    "points = (base\n",
    "          .mark_point(**point_props)\n",
    "          .encode(shape = 'Factor2'))\n",
    "\n",
    "lines + points"
   ]
  },
  {
   "cell_type": "code",
   "execution_count": null,
   "metadata": {},
   "outputs": [],
   "source": []
  }
 ],
 "metadata": {
  "kernelspec": {
   "display_name": "Python 3",
   "language": "python",
   "name": "python3"
  },
  "language_info": {
   "codemirror_mode": {
    "name": "ipython",
    "version": 3
   },
   "file_extension": ".py",
   "mimetype": "text/x-python",
   "name": "python",
   "nbconvert_exporter": "python",
   "pygments_lexer": "ipython3",
   "version": "3.7.2"
  }
 },
 "nbformat": 4,
 "nbformat_minor": 2
}
